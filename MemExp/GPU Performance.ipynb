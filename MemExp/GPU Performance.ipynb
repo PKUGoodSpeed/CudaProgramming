{
 "cells": [
  {
   "cell_type": "code",
   "execution_count": 3,
   "metadata": {
    "collapsed": true
   },
   "outputs": [],
   "source": [
    "%matplotlib inline\n",
    "import matplotlib.pyplot as plt\n",
    "import matplotlib as mpl\n",
    "import numpy as np"
   ]
  },
  {
   "cell_type": "code",
   "execution_count": 4,
   "metadata": {
    "collapsed": true
   },
   "outputs": [],
   "source": [
    "mpl.rc('font',family = 'serif',size = 17)\n",
    "mpl.rcParams['xtick.major.size'] = 5\n",
    "mpl.rcParams['xtick.minor.size'] = 2\n",
    "mpl.rcParams['ytick.major.size'] = 5\n",
    "mpl.rcParams['ytick.minor.size'] = 2"
   ]
  },
  {
   "cell_type": "code",
   "execution_count": 6,
   "metadata": {},
   "outputs": [],
   "source": [
    "var = np.array([\n",
    "[16,2e-06,9.216e-06],\n",
    "[32,1e-06,8.992e-06],\n",
    "[64,1e-06,8.192e-06],\n",
    "[128,2e-06,1.0208e-05],\n",
    "[256,2e-06,1.2192e-05],\n",
    "[512,2e-06,1.6384e-05],\n",
    "[1024,4e-06,3.7888e-05],\n",
    "[2048,7e-06,6.8608e-05],\n",
    "[4096,1.2e-05,0.000136192],\n",
    "[8192,2.2e-05,0.000254976],\n",
    "[16384,4.4e-05,0.000975872],\n",
    "[32768,8.5e-05,0.00387389],\n",
    "[65536,0.000171,0.015447],\n",
    "[131072,0.000339,0.0552123],\n",
    "[262144,0.000676,0.160586],\n",
    "[524288,0.00135,0.647708],\n",
    "[1048576,0.002701,2.56953],\n",
    "[2097152,0.005469,10.2996]])\n",
    "x =  var[:, 0]\n",
    "ratio = var[:, 2]/var[:, 1]"
   ]
  },
  {
   "cell_type": "code",
   "execution_count": 13,
   "metadata": {},
   "outputs": [
    {
     "data": {
      "text/plain": [
       "<matplotlib.text.Text at 0x7fa079f057d0>"
      ]
     },
     "execution_count": 13,
     "metadata": {},
     "output_type": "execute_result"
    },
    {
     "data": {
      "image/png": "[encoded data removed]",
      "text/plain": [
       "<matplotlib.figure.Figure at 0x7fa07a13b090>"
      ]
     },
     "metadata": {},
     "output_type": "display_data"
    }
   ],
   "source": [
    "fig, ax = plt.subplots(1,1)\n",
    "ax.plot(x, ratio)\n",
    "ax.set_xscale('log')\n",
    "ax.set_yscale('log')\n",
    "ax.set_xlabel('number of threads')\n",
    "ax.set_ylabel('$\\\\frac{gpu \\quad time}{cpu \\quad time}$')"
   ]
  },
  {
   "cell_type": "code",
   "execution_count": 14,
   "metadata": {},
   "outputs": [
    {
     "data": {
      "text/plain": [
       "12288"
      ]
     },
     "execution_count": 14,
     "metadata": {},
     "output_type": "execute_result"
    }
   ],
   "source": [
    "4096*3"
   ]
  },
  {
   "cell_type": "code",
   "execution_count": null,
   "metadata": {
    "collapsed": true
   },
   "outputs": [],
   "source": []
  }
 ],
 "metadata": {
  "kernelspec": {
   "display_name": "Python 2",
   "language": "python",
   "name": "python2"
  },
  "language_info": {
   "codemirror_mode": {
    "name": "ipython",
    "version": 2
   },
   "file_extension": ".py",
   "mimetype": "text/x-python",
   "name": "python",
   "nbconvert_exporter": "python",
   "pygments_lexer": "ipython2",
   "version": "2.7.13"
  }
 },
 "nbformat": 4,
 "nbformat_minor": 2
}
